{
 "cells": [
  {
   "cell_type": "markdown",
   "metadata": {},
   "source": [
    "input- learning rate, the number of neurons in the input, and the output layer. Number of hidden layers will be one of the following (taken as user input). The initial weights would be assigned with random numbers."
   ]
  },
  {
   "cell_type": "markdown",
   "metadata": {},
   "source": [
    "## assuming all hidden layer sizes to be same"
   ]
  },
  {
   "cell_type": "code",
   "execution_count": null,
   "metadata": {},
   "outputs": [],
   "source": [
    "import numpy as np\n",
    "\n",
    "class NN():\n",
    "    def __init__(self, input_layer_size = 2, hidden_layer_size = 2, output_layer_size = 2, hidden_layers = 1, lr = 0.1, epoches = 1000):\n",
    "        self.input_layer_size = input_layer_size\n",
    "        self.hidden_layer_size = hidden_layer_size\n",
    "        self.output_layer_size = output_layer_size\n",
    "        self.hidden_layers = hidden_layers\n",
    "        self.lr = lr\n",
    "        self.number_of_epoches = epoches\n",
    "\n",
    "        # initialize the weights by random numbers\n",
    "        self.W = [np.random.randn(self.input_layer_size, self.hidden_layer_size)]\n",
    "        for layer in range(hidden_layers-1):\n",
    "            self.W.append(np.random.randn(self.hidden_layer_size, self.hidden_layer_size))\n",
    "        self.W.append(np.random.randn(self.hidden_layer_size, self.output_layer_size))\n",
    "\n",
    "    def activation(self, x): # sigmoid function\n",
    "        return (1/(1+np.exp(-x)))\n",
    "    \n",
    "    def forward(self, X): # forward propogation\n",
    "        # X- input\n",
    "        input_list = X\n",
    "        for step in range(self.hidden_layers + 1):\n",
    "            output_list = np.dot(input_list, self.W[step])\n",
    "            output_list = [self.activation(neuron) for neuron in output_list]\n",
    "            input_list = output_list\n",
    "        return output_list\n",
    "    \n",
    "    def backward(self, X, y): # backward propogation\n",
    "        # X- input, y- output\n",
    "        output_list = self.forward(X)\n",
    "        error = np.sum((y - output_list)**2/2)\n",
    "        # W2 = W2 - alpha * (H * ((y-OP) * (OP * (OP - 1))))\n",
    "\n",
    "        pass"
   ]
  }
 ],
 "metadata": {
  "kernelspec": {
   "display_name": "Python 3",
   "language": "python",
   "name": "python3"
  },
  "language_info": {
   "codemirror_mode": {
    "name": "ipython",
    "version": 3
   },
   "file_extension": ".py",
   "mimetype": "text/x-python",
   "name": "python",
   "nbconvert_exporter": "python",
   "pygments_lexer": "ipython3",
   "version": "3.11.0"
  }
 },
 "nbformat": 4,
 "nbformat_minor": 2
}
